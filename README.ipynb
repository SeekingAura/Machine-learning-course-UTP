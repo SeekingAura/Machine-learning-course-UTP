{
 "cells": [
  {
   "cell_type": "markdown",
   "metadata": {},
   "source": [
    "# Machine learning course\n",
    "Here a repository about this course, here you can see in order of Clases\n",
    "\n",
    "# Introducción al aprendizaje de maquina\n",
    "\n",
    "# Contenido - Clases\n",
    "* [Introducción al aprendizaje de maquina, nociones basicas](http://localhost:8888/notebooks/clase%2015-02-2020/README.ipynb)\n",
    "* [Probabilidad, regresión, maxima verosimilitud](http://localhost:8888/notebooks/clase%2022-02-2020/README.ipynb)\n",
    "* [Maxima verosimilitud, Regularalización, LASSO](http://localhost:8888/notebooks/clase%2029-02-2020/README.ipynb)\n",
    "* [Regresión bayesiana, Prior simple, maxima a posterior (MAP), Distribución predictiva](http://localhost:8888/notebooks/clase%2007-03-2020/README.ipynb)\n",
    "* [Distribución predictiva, aproximación de la evidencia, verosimilitud 2](http://localhost:8888/notebooks/clase%2014-03-2020/README.ipynb)\n",
    "* [Modelo lineal, Función discriminante, multiples clases, Minimo cuadradados, Analisis discriminante de fisher](http://localhost:8888/notebooks/clase%2026-03-2020/README.ipynb)\n",
    "* [Algoritmo perceptron, gradiente desendiente, Modelos generativos probabilisticos, Maxima verosimilitud](http://localhost:8888/notebooks/clase%2004-04-2020/README.ipynb)\n",
    "* [Redes neuronales, propagación hacia delante, MLP perceptron multicapa, retro-propagación, backpropagation, momentum, Quasi-Newton, ADAptive Moment estimation (ADAM)](http://localhost:8888/notebooks/clase%2002-05-2020/README.ipynb)\n",
    "* [Kernels, Maquinas de vectores de soporte (SVM)](http://localhost:8888/notebooks/clase%2016-05-2020/README.ipynb)\n",
    "* [K-means, teoria extra](http://localhost:8888/notebooks/clase%2030-05-2020/Untitled.ipynb)\n",
    "\n",
    "# Contenido - Laboratorios\n",
    "* [Laboratorio 1: Regresión Lineal (máxima verosimilitud/mínimos cuadrados)](http://localhost:8888/notebooks/Laboratorios/Lab1_LR_ML_2020I.ipynb)\n",
    "* [Laboratorio 2: Regresión Lineal Bayesiana](http://localhost:8888/notebooks/Laboratorios/Lab2_RL_BayessianRegression.ipynb)\n",
    "* [Laboratorio 3: Modelos de Classificación Lineal - Modelos Discriminantes](http://localhost:8888/notebooks/Laboratorios/Carlos%20Arturo%20Moreno%20Tabares%20-%20Lab03_.ipynb)\n",
    "* [Laboratorio 4: Modelos de Classificación Lineal - Modelos Generativos](http://localhost:8888/notebooks/Laboratorios/Lab04_ML.ipynb)\n",
    "* [Laboratorio 5: Redes Neuronales](http://localhost:8888/notebooks/Laboratorios/Carlos%20Arturo%20Moreno%20Tabares%20-%20Lab05_PR_NN_MLP.ipynb)\n",
    "* [Laboratorio 6: Máquinas de Soporte Vectorial (SVM)](http://localhost:8888/notebooks/Laboratorios/Carlos%20Arturo%20Moreno%20Tabares%20-%20Lab06_SVM.ipynb)"
   ]
  }
 ],
 "metadata": {
  "kernelspec": {
   "display_name": "Python 3",
   "language": "python",
   "name": "python3"
  },
  "language_info": {
   "codemirror_mode": {
    "name": "ipython",
    "version": 3
   },
   "file_extension": ".py",
   "mimetype": "text/x-python",
   "name": "python",
   "nbconvert_exporter": "python",
   "pygments_lexer": "ipython3",
   "version": "3.8.2"
  }
 },
 "nbformat": 4,
 "nbformat_minor": 2
}
